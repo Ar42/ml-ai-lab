{
  "nbformat": 4,
  "nbformat_minor": 0,
  "metadata": {
    "colab": {
      "provenance": []
    },
    "kernelspec": {
      "name": "python3",
      "display_name": "Python 3"
    },
    "language_info": {
      "name": "python"
    }
  },
  "cells": [
    {
      "cell_type": "code",
      "execution_count": null,
      "metadata": {
        "id": "7g-UzGo7tmtq"
      },
      "outputs": [],
      "source": [
        "import tensorflow as tf\n",
        "import numpy as np\n",
        "import matplotlib.pyplot as plt\n",
        "import os\n",
        "import cv2\n",
        "from sklearn.model_selection import train_test_split\n",
        "from sklearn.utils import shuffle"
      ]
    },
    {
      "cell_type": "code",
      "source": [
        "!git clone https://github.com/Ar42/ml-ai-lab.git"
      ],
      "metadata": {
        "colab": {
          "base_uri": "https://localhost:8080/"
        },
        "id": "9tLFEkRNu2cK",
        "outputId": "7f8820af-872f-4a6a-d5a2-36420e9ec6a6"
      },
      "execution_count": null,
      "outputs": [
        {
          "output_type": "stream",
          "name": "stdout",
          "text": [
            "fatal: destination path 'ml-ai-lab' already exists and is not an empty directory.\n"
          ]
        }
      ]
    },
    {
      "cell_type": "code",
      "source": [
        "directoryOfData = \"ml-ai-lab/CNN_dataset\"\n",
        "categoryList = ['HeadCT', 'ChestCT', 'AbdomenCT', 'Hand', 'CXR']\n",
        "dataSetList = []\n",
        "label = []"
      ],
      "metadata": {
        "id": "gFhPCooqvPVJ"
      },
      "execution_count": null,
      "outputs": []
    },
    {
      "cell_type": "code",
      "source": [
        "for i, category in enumerate(categoryList):\n",
        "    path = os.path.join(directoryOfData, category)\n",
        "    for img in os.listdir(path):\n",
        "        pathOfImage = os.path.join(path, img)\n",
        "        photo = cv2.imread(pathOfImage)\n",
        "        photo = cv2.cvtColor(photo, cv2.COLOR_BGR2RGB) # convert to RGB\n",
        "        photo = cv2.resize(photo, (32, 32)) # resize to (224, 224)\n",
        "        dataSetList.append(photo)\n",
        "        label.append(i)"
      ],
      "metadata": {
        "id": "hB5xg7cqvQcI"
      },
      "execution_count": null,
      "outputs": []
    },
    {
      "cell_type": "code",
      "source": [
        "dataSetList = np.array(dataSetList)\n",
        "label = np.array(label)"
      ],
      "metadata": {
        "id": "2rjqkV_fvVT8"
      },
      "execution_count": null,
      "outputs": []
    },
    {
      "cell_type": "code",
      "source": [
        "dataSetList, label = shuffle(dataSetList, label, random_state=42)"
      ],
      "metadata": {
        "id": "-6LK9_QFvWMx"
      },
      "execution_count": null,
      "outputs": []
    },
    {
      "cell_type": "code",
      "source": [
        "X_train, X_test, y_train, y_test = train_test_split(dataSetList, label, test_size=0.2, random_state=42)\n",
        "X_train, X_val, y_train, y_val = train_test_split(X_train, y_train, test_size=0.2, random_state=42)"
      ],
      "metadata": {
        "id": "wChmdul5vZqv"
      },
      "execution_count": null,
      "outputs": []
    },
    {
      "cell_type": "code",
      "source": [
        "noOfClass = np.bincount(y_train)\n",
        "maxOfCount = np.max(noOfClass)\n",
        "for i, count in enumerate(noOfClass):\n",
        "    if count != maxOfCount:\n",
        "        mask = y_train == i\n",
        "        X_train = np.concatenate((X_train, X_train[mask]), axis=0)\n",
        "        y_train = np.concatenate((y_train, y_train[mask]), axis=0)\n"
      ],
      "metadata": {
        "id": "6_Tepk5fvb8M"
      },
      "execution_count": null,
      "outputs": []
    },
    {
      "cell_type": "code",
      "source": [
        "X_train = X_train / 255.0\n",
        "X_val = X_val / 255.0\n",
        "X_test = X_test / 255.0"
      ],
      "metadata": {
        "id": "cLlLnI-uvel3"
      },
      "execution_count": null,
      "outputs": []
    },
    {
      "cell_type": "code",
      "source": [
        "gettingModel = tf.keras.models.Sequential([\n",
        "    tf.keras.layers.Conv2D(32, (3, 3), activation='relu', input_shape=(32, 32, 3)),\n",
        "    tf.keras.layers.MaxPooling2D((2, 2)),\n",
        "    tf.keras.layers.Conv2D(64, (3, 3), activation='relu'),\n",
        "    tf.keras.layers.MaxPooling2D((2, 2)),\n",
        "    tf.keras.layers.Conv2D(128, (3, 3), activation='relu'),\n",
        "    tf.keras.layers.MaxPooling2D((2, 2)),\n",
        "    tf.keras.layers.Flatten(),\n",
        "    tf.keras.layers.Dense(128, activation='relu'),\n",
        "    tf.keras.layers.Dense(len(categories), activation='softmax')\n",
        "])"
      ],
      "metadata": {
        "id": "VzcWbODVvfoG"
      },
      "execution_count": null,
      "outputs": []
    },
    {
      "cell_type": "code",
      "source": [
        "gettingModel.compile(optimizer='adam', loss='sparse_categorical_crossentropy', metrics=['accuracy'])"
      ],
      "metadata": {
        "id": "iuxgC37TviOs"
      },
      "execution_count": null,
      "outputs": []
    },
    {
      "cell_type": "code",
      "source": [
        "narration = gettingModel.fit(X_train, y_train, validation_data=(X_val, y_val), epochs=5, batch_size=32)"
      ],
      "metadata": {
        "id": "evwHvG_-vmnG",
        "colab": {
          "base_uri": "https://localhost:8080/"
        },
        "outputId": "df1eee57-76f3-4a67-9061-22f38dafc8ab"
      },
      "execution_count": null,
      "outputs": [
        {
          "output_type": "stream",
          "name": "stdout",
          "text": [
            "Epoch 1/5\n",
            "1799/1799 [==============================] - 104s 58ms/step - loss: 0.0105 - accuracy: 0.9969 - val_loss: 0.0071 - val_accuracy: 0.9983\n",
            "Epoch 2/5\n",
            "1799/1799 [==============================] - 102s 57ms/step - loss: 0.0051 - accuracy: 0.9985 - val_loss: 0.0047 - val_accuracy: 0.9986\n",
            "Epoch 3/5\n",
            "1799/1799 [==============================] - 101s 56ms/step - loss: 0.0048 - accuracy: 0.9987 - val_loss: 0.0058 - val_accuracy: 0.9985\n",
            "Epoch 4/5\n",
            "1799/1799 [==============================] - 100s 56ms/step - loss: 0.0040 - accuracy: 0.9987 - val_loss: 0.0112 - val_accuracy: 0.9967\n",
            "Epoch 5/5\n",
            "1799/1799 [==============================] - 99s 55ms/step - loss: 0.0033 - accuracy: 0.9990 - val_loss: 0.0035 - val_accuracy: 0.9986\n"
          ]
        }
      ]
    },
    {
      "cell_type": "code",
      "source": [
        "test_loss, test_acc = gettingModel.evaluate(X_test, y_test)\n",
        "print('Test accuracy:', test_acc)"
      ],
      "metadata": {
        "id": "C6cb7w7qvonG",
        "colab": {
          "base_uri": "https://localhost:8080/"
        },
        "outputId": "b6e66074-d069-465a-c19c-a5d48c4207c1"
      },
      "execution_count": null,
      "outputs": [
        {
          "output_type": "stream",
          "name": "stdout",
          "text": [
            "313/313 [==============================] - 6s 19ms/step - loss: 0.0024 - accuracy: 0.9994\n",
            "Test accuracy: 0.9994000196456909\n"
          ]
        }
      ]
    },
    {
      "cell_type": "code",
      "source": [
        "f, (axisOne, axisTwo) = plt.subplots(1, 2, figsize=(12, 4))\n",
        "t = f.suptitle('Model Performance', fontsize=12)\n",
        "f.subplots_adjust(top=0.85, wspace=0.3)\n",
        "\n",
        "maximumOfEpoch = len(narration.history['accuracy'])+1\n",
        "listOfEpoch = list(range(1,maximumOfEpoch))\n",
        "axisOne.plot(listOfEpoch, narration.history['accuracy'], label='Train Accuracy')\n",
        "axisOne.plot(listOfEpoch, narration.history['val_accuracy'], label='Validation Accuracy')\n",
        "axisOne.set_xticks(np.arange(1, maximumOfEpoch, 5))\n",
        "axisOne.set_ylabel('Accuracy Value')\n",
        "axisOne.set_xlabel('Epoch')\n",
        "axisOne.set_title('Accuracy')\n",
        "label1 = axisOne.legend(loc=\"best\")\n",
        "\n",
        "axisTwo.plot(listOfEpoch, narration.history['loss'], label='Train Loss')\n",
        "axisTwo.plot(listOfEpoch, narration.history['val_loss'], label='Validation Loss')\n",
        "axisTwo.set_xticks(np.arange(1, maximumOfEpoch, 5))\n",
        "axisTwo.set_ylabel('Value Loss')\n",
        "axisTwo.set_xlabel('Epoch')\n",
        "axisTwo.set_title('Loss')\n",
        "label2 = axisTwo.legend(loc=\"best\")"
      ],
      "metadata": {
        "id": "U7_fTdbIvt9e",
        "colab": {
          "base_uri": "https://localhost:8080/",
          "height": 308
        },
        "outputId": "173e9a38-6bbd-437b-d9ae-86cdba3ee7c1"
      },
      "execution_count": null,
      "outputs": [
        {
          "output_type": "display_data",
          "data": {
            "text/plain": [
              "<Figure size 864x288 with 2 Axes>"
            ],
            "image/png": "[encoded data removed]"
          },
          "metadata": {
            "needs_background": "light"
          }
        }
      ]
    }
  ]
}